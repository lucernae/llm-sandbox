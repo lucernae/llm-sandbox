{
 "cells": [
  {
   "cell_type": "code",
   "execution_count": 3,
   "id": "8e16ea73-6dbf-4474-aceb-4e136d738f99",
   "metadata": {},
   "outputs": [
    {
     "name": "stdout",
     "output_type": "stream",
     "text": [
      "/Users/recalune/Library/Caches/pypoetry/virtualenvs/llm-sandbox-mRhiuxma-py3.11/bin:/nix/store/327bf08j5b7l9cnzink3g4vp32y5352j-python3-3.11.9/bin:/nix/store/rxzn7qsm3hpkg4za3z3lcpj514fm7kjv-python3.11-poetry-1.8.3/bin:/nix/store/1ygrq736jjks4555ad7jqbc2gzk5kbad-python3.11-build-1.2.1/bin:/nix/store/7mjibmwsna90791c8zsa91kxapwiwa3i-python3.11-cachecontrol-0.14.0/bin:/nix/store/g6421gllwj2xjpx5nsp3q5n6sspvvna2-python3.11-charset-normalizer-3.3.2/bin:/nix/store/l4m5m3xp4cdz5ryszbfy7kpl4n7b9bx8-python3.11-dulwich-0.21.7/bin:/nix/store/5bsbsa2wirh99br20bc807iskf33ilnn-python3.11-keyring-24.3.1/bin:/nix/store/0h6qzkzxs8d3m1gx9jp4k17yv15z7l9a-python3.11-pkginfo-1.10.0/bin:/nix/store/pwsy59c3bcid2gdafqx02xpfpff2hj3j-python3.11-virtualenv-20.25.3/bin:/nix/store/gl30b12xr49wla3vzpb3bwgz73zyp8yg-python3.11-xattr-1.1.0/bin:/Users/recalune/.rd/bin:/opt/homebrew/bin:/opt/homebrew/sbin:/Users/recalune/.nix-profile/bin:/etc/profiles/per-user/recalune/bin:/run/current-system/sw/bin:/nix/var/nix/profiles/default/bin:/usr/local/bin:/usr/bin:/usr/sbin:/bin:/sbin:/Users/recalune/.npm-global:/Users/recalune/.fig/bin:/Users/recalune/.local/bin:/Users/recalune/.orbstack/bin\n"
     ]
    }
   ],
   "source": [
    "import os\n",
    "\n",
    "print(os.environ.get('PATH'))"
   ]
  }
 ],
 "metadata": {
  "kernelspec": {
   "display_name": "Python 3 (ipykernel)",
   "language": "python",
   "name": "python3"
  },
  "language_info": {
   "codemirror_mode": {
    "name": "ipython",
    "version": 3
   },
   "file_extension": ".py",
   "mimetype": "text/x-python",
   "name": "python",
   "nbconvert_exporter": "python",
   "pygments_lexer": "ipython3",
   "version": "3.11.9"
  }
 },
 "nbformat": 4,
 "nbformat_minor": 5
}
