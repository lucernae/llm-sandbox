{
 "cells": [
  {
   "cell_type": "markdown",
   "id": "e7e1775d",
   "metadata": {},
   "source": []
  },
  {
   "cell_type": "code",
   "execution_count": 1,
   "id": "8e16ea73-6dbf-4474-aceb-4e136d738f99",
   "metadata": {},
   "outputs": [
    {
     "name": "stdout",
     "output_type": "stream",
     "text": [
      "/Users/recalune/Library/Caches/pypoetry/virtualenvs/llm-sandbox-mRhiuxma-py3.11/bin:/nix/store/327bf08j5b7l9cnzink3g4vp32y5352j-python3-3.11.9/bin:/nix/store/rxzn7qsm3hpkg4za3z3lcpj514fm7kjv-python3.11-poetry-1.8.3/bin:/nix/store/1ygrq736jjks4555ad7jqbc2gzk5kbad-python3.11-build-1.2.1/bin:/nix/store/7mjibmwsna90791c8zsa91kxapwiwa3i-python3.11-cachecontrol-0.14.0/bin:/nix/store/g6421gllwj2xjpx5nsp3q5n6sspvvna2-python3.11-charset-normalizer-3.3.2/bin:/nix/store/l4m5m3xp4cdz5ryszbfy7kpl4n7b9bx8-python3.11-dulwich-0.21.7/bin:/nix/store/5bsbsa2wirh99br20bc807iskf33ilnn-python3.11-keyring-24.3.1/bin:/nix/store/0h6qzkzxs8d3m1gx9jp4k17yv15z7l9a-python3.11-pkginfo-1.10.0/bin:/nix/store/pwsy59c3bcid2gdafqx02xpfpff2hj3j-python3.11-virtualenv-20.25.3/bin:/nix/store/gl30b12xr49wla3vzpb3bwgz73zyp8yg-python3.11-xattr-1.1.0/bin:/nix/store/yqd63262scnhgai9a79w4pbn67s80ym4-llm-sandbox-devshell-dir/bin:/nix/store/kx7ilgikwr3995v2xkl0a4nr1npnxn2k-bash-interactive-5.2p26/bin:/path-not-set:/Users/recalune/WorkingDir/llm-sandbox/.direnv/bin:/Users/recalune/.rd/bin:/opt/homebrew/bin:/opt/homebrew/sbin:/nix/store/3jl3rb0l425c076rla4j2mnmppmv278y-vscode-extension-ms-python-python-2024.11.2024070502/share/vscode/extensions/ms-python.python/python_files/deactivate/zsh:/Users/recalune/Library/Caches/pypoetry/virtualenvs/llm-sandbox-mRhiuxma-py3.11/bin:/Users/recalune/.rd/bin:/opt/homebrew/bin:/opt/homebrew/sbin:/Users/recalune/.nix-profile/bin:/etc/profiles/per-user/recalune/bin:/run/current-system/sw/bin:/nix/var/nix/profiles/default/bin:/usr/local/bin:/usr/bin:/usr/sbin:/bin:/sbin:/Users/recalune/.npm-global:/Users/recalune/.fig/bin:/Users/recalune/.local/bin:/Users/recalune/.orbstack/bin\n"
     ]
    }
   ],
   "source": [
    "import os\n",
    "\n",
    "print(os.environ.get('PATH'))"
   ]
  },
  {
   "cell_type": "code",
   "execution_count": 2,
   "id": "fbd80959-71d7-42c0-bd59-2a30df447a20",
   "metadata": {},
   "outputs": [
    {
     "name": "stdout",
     "output_type": "stream",
     "text": [
      "environ({'SHELL': '/bin/zsh', 'LSCOLORS': 'Gxfxcxdxbxegedabagacad', '__HM_SESS_VARS_SOURCED': '1', 'XDG_CONFIG_DIRS': '/Users/recalune/.nix-profile/etc/xdg:/etc/profiles/per-user/recalune/etc/xdg:/run/current-system/sw/etc/xdg:/nix/var/nix/profiles/default/etc/xdg', 'LESS': '-R', 'XPC_FLAGS': '0x0', 'TERMINAL_EMULATOR': 'JetBrains-JediTerm', 'PYTHONNOUSERSITE': 'true', '__CFBundleIdentifier': 'com.jetbrains.rustrover', 'SSH_AUTH_SOCK': '/private/tmp/com.apple.launchd.loToklNKlb/Listeners', 'DIRENV_DIR': '-/Users/recalune/WorkingDir/llm-sandbox', 'FIG_SET_PARENT_CHECK': '1', 'TERM_SESSION_ID': '4f4c5898-c2d9-4183-81bd-853705372ebd', 'LC_FIG_SET_PARENT': '88a40c70-d343-4c4d-9f36-af8fd5f96758', 'FIGTERM_SESSION_ID': '88a40c70-d343-4c4d-9f36-af8fd5f96758', 'HOMEBREW_PREFIX': '/opt/homebrew', 'GNUPGHOME': '/Users/recalune/.gnupg', 'GPG_TTY': '/dev/ttys008', 'DIRENV_FILE': '/Users/recalune/WorkingDir/llm-sandbox/.envrc', 'EDITOR': 'nano', 'PWD': '/Users/recalune/WorkingDir/llm-sandbox', 'NIX_PROFILES': '/nix/var/nix/profiles/default /run/current-system/sw /etc/profiles/per-user/recalune /Users/recalune/.nix-profile', 'LOGNAME': 'recalune', 'MANPATH': '/opt/homebrew/share/man::', 'NIX_PATH': '/Users/recalune/.nix-defexpr/channels:darwin-config=/Users/recalune/.nixpkgs/darwin-configuration.nix:/nix/var/nix/profiles/per-user/root/channels', '__NIX_DARWIN_SET_ENVIRONMENT_DONE': '1', 'PRJ_ROOT': '/Users/recalune/WorkingDir/llm-sandbox', 'COMMAND_MODE': 'unix2003', 'IN_NIX_SHELL': 'impure', 'HOME': '/Users/recalune', 'LS_COLORS': 'di=1;36:ln=35:so=32:pi=33:ex=31:bd=34;46:cd=34;43:su=30;41:sg=30;46:tw=30;42:ow=30;43', 'FIG_SET_PARENT': '88a40c70-d343-4c4d-9f36-af8fd5f96758', 'STARSHIP_SHELL': 'zsh', 'NIX_SSL_CERT_FILE': '/etc/ssl/certs/ca-certificates.crt', 'DEVSHELL_DIR': '/nix/store/yqd63262scnhgai9a79w4pbn67s80ym4-llm-sandbox-devshell-dir', '_INTELLIJ_FORCE_PREPEND_PATH': '/Users/recalune/.cargo/bin:', 'FIG_TERM': '2.19.0', 'DIRENV_DIFF': 'eJzsVU1zokwX_S-s7UHxA8mODJiQQUCiAbOhGmi0AzRtN99T-e9vaXxjKnGer5rFs3g2Cn3vOX05dercnwIVbn4Kjrq-F24EccMR4yJDEcwqgsRvLBZDTG7EgpbivshRyFBz5YSfjj6DCW4BZUWCM_SGQWUkng-4SBEDFUfsAjj1sIqIUcUYIiXgHS9RLvLzlQS3Yg3Z6f-dJkYJrLLyraPiTMyKCGaX1_eHtxlPP78Yl-ZglxUhzL7WErwTr4I-3Pa5VLCQlzBKj1VhIPjaXaCpazXQDPfxmtYf5eJ7yNCfCnbuui7ZufiHop16hNeBQI4m0PSnx3vdNI8THgc8QnhZMCR2h3g2lmYSj8h-B7ECZaWZ0JDMZD4fdvkEZFkOOCRxWLQgRjXfoywDMWbCQNAMV7eezpzg81d7BUsx2WmYiR84LrCFYepXxLoOE78hUrPogvbU9fd7_ag2euh4OryzR5q6clGAY3cpxy_pkzItmHELDTfaVOthUkrLF3uvQ6OSl1u80rtl8yPTpt9JBuKEyDPTlF3ULoihTUYsnW4UGiXLeW7TUZ8G9QNg67tsOurw_SFu03acM5_2-oYbM7Prbcc7ZCy0ckfNQe-NygnrPTeYtoj6MUUG7Xy4717MZZYs8x_Q75622_16ZzvsgHalY6yNEW50TS9Wc323bBbPK2nfuLfetnFTs8_r0knSrSKZCrTvVp6tzdebidJUWLUW1Eplb1lo6nKhJvHt9GWlLfRb7-DhbabZ3srnsuGq0WYVgxIoI9OyqbVGyn3WAc2ZBOO-fpzIfTNTEnvzLD-7Rjt89mTHUqS5O94GpeLPH7dg4SvKxNet_ODMm0UlRzqLPfo8HPcPTqQckv52bBAzVrSXMWzkPCFPAdbGQTKsUKKuVDUI5q2Wz0xhIBhWYBl-cLKjcCPgnFYMCQPBMnznx91j8P-8ulg0TiVGu3BG4joJk5ESpqFEs6ifduN0jqc14EXFoiPHV-w_tvcll96I0lbG2Q6nDRsryrSW2jQbwglhI0JJS6QUhJDvASYlYjAqcY3A9JtEpdkbD4XlHpCiBByVX-LkV46PMUOkvp5A_6X3b0tvx314T--_kUcxLOEZ7dr2-i8jr-2L3-HX81L416yegUBgjoQb4erEiNTC6-v_AgAA___2FAe0', '__ETC_ZSHENV_SOURCED': '1', 'STARSHIP_SESSION_KEY': '2776423150653416', 'NIX_USER_PROFILE_DIR': '/nix/var/nix/profiles/per-user/recalune', 'INFOPATH': '/opt/homebrew/share/info:', 'PRJ_DATA_DIR': '/Users/recalune/WorkingDir/llm-sandbox/.data', 'TERM': 'xterm-color', 'ZSH': '/Users/recalune/.local/share/fig/plugins/ohmyzsh', 'ZDOTDIR': '/Users/recalune/.nix-zsh', 'USER': 'recalune', 'FIG_PID': '17936', 'HOMEBREW_CELLAR': '/opt/homebrew/Cellar', 'SHLVL': '1', 'JETBRAINS_INTELLIJ_ZSH_DIR': '/Users/recalune/Applications/RustRover.app/Contents/plugins/terminal/shell-integrations/zsh', 'NIXPKGS_PATH': '/nix/store/dk2rpyb6ndvfbf19bkb2plcz5y3k8i5v-source', 'PAGER': 'cat', '__HM_ZSH_SESS_VARS_SOURCED': '1', 'HOMEBREW_REPOSITORY': '/opt/homebrew/Library/.homebrew-is-managed-by-nix', 'XPC_SERVICE_NAME': '0', 'TERMINFO_DIRS': '/Users/recalune/.nix-profile/share/terminfo:/etc/profiles/per-user/recalune/share/terminfo:/run/current-system/sw/share/terminfo:/nix/var/nix/profiles/default/share/terminfo:/usr/share/terminfo', 'NIX_REMOTE': 'daemon', 'LC_CTYPE': 'UTF-8', 'IDEA_INITIAL_DIRECTORY': '/', 'XDG_DATA_DIRS': '/nix/store/yqd63262scnhgai9a79w4pbn67s80ym4-llm-sandbox-devshell-dir/share:/Users/recalune/.nix-profile/share:/etc/profiles/per-user/recalune/share:/run/current-system/sw/share:/nix/var/nix/profiles/default/share', 'PATH': '/nix/store/327bf08j5b7l9cnzink3g4vp32y5352j-python3-3.11.9/bin:/nix/store/5xmrs7yqbj6aghrflsiyw9zp6hhslfyl-python3.11-notebook-7.2.1/bin:/nix/store/zafbvdn2hhy86fqaz5jgcfw4cpd0q9r0-python3.11-jupyter-server-2.14.1/bin:/nix/store/3p4ixl6405998qhfa4zj3r162m253pwi-python3.11-jupyter-client-8.6.2/bin:/nix/store/k6k7d3wvwhkic4qzihxvjvph0vv0di27-python3.11-jupyter-core-5.7.2/bin:/nix/store/5c1rfw1ipyc17lgmnkd6qji56ib2ha9w-zeromq-4.3.5/bin:/nix/store/czyny3wj2f8wh176f1jkgg4qhqcip0s4-python3.11-jupyter-events-0.10.0/bin:/nix/store/rs7fgfsgdh1kv01qdr568fnagpsj1h41-python3.11-jsonschema-4.22.0/bin:/nix/store/8rjra61glwkbixz3zf2wa5d94jkass0k-python3.11-jsonpointer-3.0.0/bin:/nix/store/2p8s9xa38ndn5xnh8jrfx4ghcmnbm7aq-python3.11-nbconvert-7.16.4/bin:/nix/store/54pyq7m4yy53bfz4cagadxa5nr84c6cw-python3.11-nbclient-0.10.0/bin:/nix/store/jll089bblsj6l1iiqp2yhnxw8agi3pah-python3.11-nbformat-5.10.4/bin:/nix/store/1ymkbzxccq6b89v4m6asxh962s79pz29-python3.11-pygments-2.18.0/bin:/nix/store/rmm6285rh0v8g09r0if735d39kfb8g1a-python3.11-send2trash-1.8.3/bin:/nix/store/4hv9c80lcikw44hi16p8hr3jn0acg241-python3.11-websocket-client-1.8.0/bin:/nix/store/lfvnyaz6qqg82d4qzfpcm1izbf7qbblf-python3.11-jupyterlab-4.2.3/bin:/nix/store/3zkz1xpym13ngjgj41yddg1sj5d07m20-python3.11-httpx-0.27.0/bin:/nix/store/a1ycinq33chpxmhk60x4rb27kyh7pf4y-python3.11-ipython-8.26.0/bin:/nix/store/882w2mbzpi10sg2qr9vcwh609hkpmqml-python3.11-babel-2.15.0/bin:/nix/store/3py1f6acq1bidl0mnnkiwl6pr6sj3f5r-python3.11-json5-0.9.25/bin:/nix/store/nai4ngidwziv7202k2j079nd407vq2ra-python3.11-charset-normalizer-3.3.2/bin:/nix/store/yqd63262scnhgai9a79w4pbn67s80ym4-llm-sandbox-devshell-dir/bin:/nix/store/kx7ilgikwr3995v2xkl0a4nr1npnxn2k-bash-interactive-5.2p26/bin:/path-not-set:/Users/recalune/WorkingDir/llm-sandbox/.direnv/bin:/Users/recalune/.rd/bin:/opt/homebrew/bin:/opt/homebrew/sbin:/Users/recalune/.nix-profile/bin:/etc/profiles/per-user/recalune/bin:/run/current-system/sw/bin:/nix/var/nix/profiles/default/bin:/usr/local/bin:/usr/bin:/usr/sbin:/bin:/sbin:/Users/recalune/.npm-global:/Users/recalune/.fig/bin:/Users/recalune/.local/bin:/Users/recalune/.orbstack/bin', 'DIRENV_WATCHES': 'eJysk0GO1DAQRe_idRM7djkV95orIBaIRcUuT0ft2MjOhEaIu7MYiQEyMwKlD5Cnl-dfn76LL7RexFnID41rk5U9pcfM8mOp1zk_vJ-rTGl51yiHqdxkx3mrXpzEUsI6LyzOPWqlrbNmPAm-zW1t4rzWR_5xepXdpeIpyXahyjLMlfMmKaXyVYYhTgOPrqegtPITI1iwEDEoQ8EgMwFZQ2hwRBWYwRkLzmvtPfkY92L9aOGQWOD8TU49wuiANFpNk7WMoDAMFAfdB5jQDFEBWqWiYlDOWQXs7IRAcUQd-t-91LNOpNTe9Hly-DP4_3zvS47zw69fOUZ7ZRIx0ZW7PN928R3Y_t9X8SY-FX994XENmqP8wFu7cErdWpZ03zJPc9qfzB3InLd9Dj3aw7mfnV_iD3_f0uefAQAA__8xDm6L', 'TTY': '/dev/ttys008', 'TOOLBOX_VERSION': '2.4.0.32175', '__CF_USER_TEXT_ENCODING': '0x1F5:0x0:0x0', 'name': 'llm-sandbox-devshell-env', 'JPY_SESSION_NAME': '/Users/recalune/WorkingDir/llm-sandbox/llm/1_getting_started.ipynb', 'JPY_PARENT_PID': '5524', 'PYDEVD_USE_FRAME_EVAL': 'NO', 'CLICOLOR': '1', 'FORCE_COLOR': '1', 'CLICOLOR_FORCE': '1', 'GIT_PAGER': 'cat', 'MPLBACKEND': 'module://matplotlib_inline.backend_inline'})\n"
     ]
    }
   ],
   "source": [
    "import os\n",
    "\n",
    "print(os.environ)"
   ]
  },
  {
   "cell_type": "code",
   "execution_count": null,
   "id": "68120c2d-9f59-46c8-9ffc-c8b08212990f",
   "metadata": {},
   "outputs": [],
   "source": []
  }
 ],
 "metadata": {
  "kernelspec": {
   "display_name": "Python 3 (ipykernel)",
   "language": "python",
   "name": "python3"
  },
  "language_info": {
   "codemirror_mode": {
    "name": "ipython",
    "version": 3
   },
   "file_extension": ".py",
   "mimetype": "text/x-python",
   "name": "python",
   "nbconvert_exporter": "python",
   "pygments_lexer": "ipython3",
   "version": "3.11.9"
  }
 },
 "nbformat": 4,
 "nbformat_minor": 5
}
